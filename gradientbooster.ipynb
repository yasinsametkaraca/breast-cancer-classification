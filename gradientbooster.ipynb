{
 "cells": [
  {
   "cell_type": "code",
   "execution_count": 1,
   "metadata": {},
   "outputs": [],
   "source": [
    "import pandas as pd\n",
    "from sklearn.model_selection import KFold,cross_val_score,train_test_split\n",
    "from sklearn.preprocessing import LabelEncoder,StandardScaler\n",
    "import numpy as np\n",
    "from sklearn.ensemble import GradientBoostingClassifier\n",
    "from sklearn.metrics import classification_report, confusion_matrix, accuracy_score,roc_auc_score,f1_score,precision_score"
   ]
  },
  {
   "cell_type": "code",
   "execution_count": 2,
   "metadata": {},
   "outputs": [],
   "source": [
    "csvPath = r\"C:\\Users\\YSK\\Desktop\\1030520813_patternrecognition_final_project\\breast-cancer.csv\"\n",
    "dataset = pd.read_csv(csvPath)\n",
    "dataset = dataset.drop(['id'],axis=1)\n",
    "le = LabelEncoder()\n",
    "dataset['diagnosis'] = le.fit_transform(dataset['diagnosis'])"
   ]
  },
  {
   "cell_type": "code",
   "execution_count": 4,
   "metadata": {},
   "outputs": [],
   "source": [
    "X = dataset.drop(columns=['diagnosis'])\n",
    "y = dataset['diagnosis']\n",
    "sc = StandardScaler()\n",
    "X=sc.fit_transform(X)"
   ]
  },
  {
   "cell_type": "code",
   "execution_count": 5,
   "metadata": {},
   "outputs": [
    {
     "name": "stdout",
     "output_type": "stream",
     "text": [
      "Fold  1\n",
      "Accuracy in Fold:  0.9122807017543859\n",
      "Fold  2\n",
      "Accuracy in Fold:  0.9298245614035088\n",
      "Fold  3\n",
      "Accuracy in Fold:  0.9912280701754386\n",
      "Fold  4\n",
      "Accuracy in Fold:  0.956140350877193\n",
      "Fold  5\n",
      "Accuracy in Fold:  0.9823008849557522\n",
      "Mean Accuracy:  0.9543549138332557\n"
     ]
    }
   ],
   "source": [
    "kfold=KFold(n_splits=5)\n",
    "rfc = GradientBoostingClassifier(n_estimators=50)\n",
    "accuracys =list()\n",
    "for f_index,(train_idx,test_idx) in enumerate(kfold.split(X,y)):\n",
    "    print(\"Fold \",f_index+1)\n",
    "    X_train,X_test = X[train_idx],X[test_idx]\n",
    "    y_train,y_test = y[train_idx],y[test_idx]\n",
    "    \n",
    "    rfc.fit(X_train,y_train)\n",
    "    accuracy = rfc.score(X_test,y_test)\n",
    "    print(\"Accuracy in Fold: \",accuracy)\n",
    "    accuracys.append(accuracy)\n",
    "print(\"Mean Accuracy: \", sum(accuracys)/len(accuracys))"
   ]
  },
  {
   "cell_type": "code",
   "execution_count": 6,
   "metadata": {},
   "outputs": [
    {
     "name": "stdout",
     "output_type": "stream",
     "text": [
      "Confusion Matrix:\n",
      " [[85  2]\n",
      " [ 0 26]]\n",
      "Classification Report:\n",
      "               precision    recall  f1-score   support\n",
      "\n",
      "           0       1.00      0.98      0.99        87\n",
      "           1       0.93      1.00      0.96        26\n",
      "\n",
      "    accuracy                           0.98       113\n",
      "   macro avg       0.96      0.99      0.98       113\n",
      "weighted avg       0.98      0.98      0.98       113\n",
      "\n",
      "Accuracy: 0.9823008849557522 \n",
      "\n",
      "Sensitivity :  0.9770114942528736\n",
      "Specificity :  1.0\n",
      "AUC : 0.9885057471264368\n",
      "f1-score: 0.962962962962963\n",
      "Precision: 0.9285714285714286\n"
     ]
    }
   ],
   "source": [
    "y_pred = rfc.predict(X_test)\n",
    "cMatrix = confusion_matrix(y_test, y_pred)\n",
    "print(\"Confusion Matrix:\\n\", cMatrix)\n",
    "classificationReport = classification_report(y_test, y_pred)\n",
    "print(\"Classification Report:\\n\", classificationReport)\n",
    "accuracy = accuracy_score(y_test, y_pred)\n",
    "print(\"Accuracy:\", accuracy, \"\\n\")\n",
    "print('Sensitivity : ', cMatrix[0, 0]/(cMatrix[0, 0]+cMatrix[0, 1]))\n",
    "print('Specificity : ', cMatrix[1, 1]/(cMatrix[1, 0]+cMatrix[1, 1]))\n",
    "print('AUC :', roc_auc_score(y_test, y_pred))\n",
    "print('f1-score:', f1_score(y_test, y_pred))\n",
    "print('Precision:', precision_score(y_test, y_pred))"
   ]
  }
 ],
 "metadata": {
  "kernelspec": {
   "display_name": "Python 3",
   "language": "python",
   "name": "python3"
  },
  "language_info": {
   "codemirror_mode": {
    "name": "ipython",
    "version": 3
   },
   "file_extension": ".py",
   "mimetype": "text/x-python",
   "name": "python",
   "nbconvert_exporter": "python",
   "pygments_lexer": "ipython3",
   "version": "3.10.0 (tags/v3.10.0:b494f59, Oct  4 2021, 19:00:18) [MSC v.1929 64 bit (AMD64)]"
  },
  "orig_nbformat": 4,
  "vscode": {
   "interpreter": {
    "hash": "217ab7e46067a5780b15fd3ee52860799a5834e7c0e6da0b07259ef2c81bfb00"
   }
  }
 },
 "nbformat": 4,
 "nbformat_minor": 2
}
